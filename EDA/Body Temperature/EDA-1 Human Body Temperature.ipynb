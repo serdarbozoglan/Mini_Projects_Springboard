{
 "cells": [
  {
   "cell_type": "markdown",
   "metadata": {},
   "source": [
    "# What is the True Normal Human Body Temperature? \n",
    "\n",
    "#### Background\n",
    "\n",
    "The mean normal body temperature was held to be 37$^{\\circ}$C or 98.6$^{\\circ}$F for more than 120 years since it was first conceptualized and reported by Carl Wunderlich in a famous 1868 book. But, is this value statistically correct?"
   ]
  },
  {
   "cell_type": "markdown",
   "metadata": {},
   "source": [
    "<h3>Exercises</h3>\n",
    "\n",
    "<p>In this exercise, you will analyze a dataset of human body temperatures and employ the concepts of hypothesis testing, confidence intervals, and statistical significance.</p>\n",
    "\n",
    "<p>Answer the following questions <b>in this notebook below and submit to your Github account</b>.</p> \n",
    "\n",
    "<ol>\n",
    "<li>  Is the distribution of body temperatures normal? \n",
    "    <ul>\n",
    "    <li> Although this is not a requirement for the Central Limit Theorem to hold (read the introduction on Wikipedia's page about the CLT carefully: https://en.wikipedia.org/wiki/Central_limit_theorem), it gives us some peace of mind that the population may also be normally distributed if we assume that this sample is representative of the population.\n",
    "    <li> Think about the way you're going to check for the normality of the distribution. Graphical methods are usually used first, but there are also other ways: https://en.wikipedia.org/wiki/Normality_test\n",
    "    </ul>\n",
    "<li>  Is the sample size large? Are the observations independent?\n",
    "    <ul>\n",
    "    <li> Remember that this is a condition for the Central Limit Theorem, and hence the statistical tests we are using, to apply.\n",
    "    </ul>\n",
    "<li>  Is the true population mean really 98.6 degrees F?\n",
    "    <ul>\n",
    "    <li> First, try a bootstrap hypothesis test.\n",
    "    <li> Now, let's try frequentist statistical testing. Would you use a one-sample or two-sample test? Why?\n",
    "    <li> In this situation, is it appropriate to use the $t$ or $z$ statistic? \n",
    "    <li> Now try using the other test. How is the result be different? Why?\n",
    "    </ul>\n",
    "<li>  Draw a small sample of size 10 from the data and repeat both frequentist tests. \n",
    "    <ul>\n",
    "    <li> Which one is the correct one to use? \n",
    "    <li> What do you notice? What does this tell you about the difference in application of the $t$ and $z$ statistic?\n",
    "    </ul>\n",
    "<li>  At what temperature should we consider someone's temperature to be \"abnormal\"?\n",
    "    <ul>\n",
    "    <li> As in the previous example, try calculating everything using the boostrap approach, as well as the frequentist approach.\n",
    "    <li> Start by computing the margin of error and confidence interval. When calculating the confidence interval, keep in mind that you should use the appropriate formula for one draw, and not N draws.\n",
    "    </ul>\n",
    "<li>  Is there a significant difference between males and females in normal temperature?\n",
    "    <ul>\n",
    "    <li> What testing approach did you use and why?\n",
    "    <li> Write a story with your conclusion in the context of the original problem.\n",
    "    </ul>\n",
    "</ol>\n",
    "\n",
    "You can include written notes in notebook cells using Markdown: \n",
    "   - In the control panel at the top, choose Cell > Cell Type > Markdown\n",
    "   - Markdown syntax: http://nestacms.com/docs/creating-content/markdown-cheat-sheet\n",
    "\n",
    "#### Resources\n",
    "\n",
    "+ Information and data sources: http://www.amstat.org/publications/jse/datasets/normtemp.txt, http://www.amstat.org/publications/jse/jse_data_archive.htm\n",
    "+ Markdown syntax: http://nestacms.com/docs/creating-content/markdown-cheat-sheet\n",
    "\n",
    "****"
   ]
  },
  {
   "cell_type": "code",
   "execution_count": 48,
   "metadata": {},
   "outputs": [],
   "source": [
    "## LIBRARIES\n",
    "\n",
    "import pandas as pd\n",
    "import numpy as np\n",
    "import matplotlib.pyplot as plt\n",
    "import seaborn as sns\n",
    "from scipy import stats\n",
    "import warnings\n",
    "\n",
    "from ipywidgets import interact, interactive, fixed, interact_manual\n",
    "import ipywidgets as widgets\n",
    "from IPython.display import display\n",
    "import ipywidgets as widgets\n",
    "from beakerx import *\n",
    "\n",
    "warnings.filterwarnings('ignore')\n",
    "%matplotlib inline\n"
   ]
  },
  {
   "cell_type": "code",
   "execution_count": 49,
   "metadata": {},
   "outputs": [],
   "source": [
    "# Your work here.\n",
    "\n",
    "df = pd.read_csv('data/human_body_temperature.csv')\n"
   ]
  },
  {
   "cell_type": "code",
   "execution_count": 50,
   "metadata": {},
   "outputs": [
    {
     "data": {
      "application/vnd.jupyter.widget-view+json": {
       "model_id": "bece88f68c414d1ebd1cff4f8c0b61ba",
       "version_major": 2,
       "version_minor": 0
      }
     },
     "metadata": {},
     "output_type": "display_data"
    }
   ],
   "source": [
    "df.head()"
   ]
  },
  {
   "cell_type": "code",
   "execution_count": 51,
   "metadata": {},
   "outputs": [
    {
     "name": "stdout",
     "output_type": "stream",
     "text": [
      "<class 'pandas.core.frame.DataFrame'>\n",
      "RangeIndex: 130 entries, 0 to 129\n",
      "Data columns (total 3 columns):\n",
      "temperature    130 non-null float64\n",
      "gender         130 non-null object\n",
      "heart_rate     130 non-null float64\n",
      "dtypes: float64(2), object(1)\n",
      "memory usage: 3.1+ KB\n"
     ]
    }
   ],
   "source": [
    "df.info()"
   ]
  },
  {
   "cell_type": "code",
   "execution_count": 52,
   "metadata": {},
   "outputs": [
    {
     "data": {
      "application/vnd.jupyter.widget-view+json": {
       "model_id": "a185bb1052a2474585795f260afce94f",
       "version_major": 2,
       "version_minor": 0
      }
     },
     "metadata": {},
     "output_type": "display_data"
    }
   ],
   "source": [
    "df.describe().T"
   ]
  },
  {
   "cell_type": "markdown",
   "metadata": {},
   "source": [
    "### Q1 Is the distribution of body temperatures normal?"
   ]
  },
  {
   "cell_type": "code",
   "execution_count": 53,
   "metadata": {},
   "outputs": [
    {
     "data": {
      "image/png": "[encoded data removed]",
      "text/plain": [
       "<Figure size 1152x360 with 1 Axes>"
      ]
     },
     "metadata": {},
     "output_type": "display_data"
    }
   ],
   "source": [
    "plt.subplots(figsize=(16,5))\n",
    "ax = sns.distplot(df.temperature)\n",
    "plt.xlabel('Body Temperature (Fahrenheit)', fontsize=16)\n",
    "plt.ylabel('Probability', fontsize=16)\n",
    "plt.title ('Histogram', fontsize=16)\n",
    "plt.xticks(size=14)\n",
    "plt.yticks(size=14)\n",
    "sns.set_style('darkgrid')"
   ]
  },
  {
   "cell_type": "markdown",
   "metadata": {},
   "source": [
    "### A1\n",
    "<p style=\"color:red\"> Graphical methods are used to check __Normality__ first, but on the other hand there are also __other methods__ to check the normality</p> The data seems to come from __a normal distribution.__"
   ]
  },
  {
   "cell_type": "code",
   "execution_count": 54,
   "metadata": {},
   "outputs": [
    {
     "data": {
      "image/png": "[encoded data removed]",
      "text/plain": [
       "<Figure size 720x360 with 1 Axes>"
      ]
     },
     "metadata": {},
     "output_type": "display_data"
    }
   ],
   "source": [
    "# ECDF Function\n",
    "\n",
    "\n",
    "def ecdf(data):\n",
    "    \"\"\"Compute ECDF for a one-dimensional array of measurements.\"\"\"\n",
    "\n",
    "    # Number of data points: n\n",
    "    n = len(data)\n",
    "\n",
    "    # x-data for the ECDF: x\n",
    "    x = np.sort(data)\n",
    "\n",
    "    # y-data for the ECDF: y\n",
    "    y = np.arange(1.0, n+1) / n\n",
    "    \n",
    "    return x, y\n",
    "\n",
    "\n",
    "mu = np.mean(df.temperature)\n",
    "sigma = np.std(df.temperature)\n",
    "\n",
    "\n",
    "# Sample out of Normal Distribution with existing dataset's mu and sigma \n",
    "np.random.seed(42)\n",
    "sample = np.random.normal(mu, sigma, 10000)\n",
    "\n",
    "# Plotting ECDF both for normal and sample dataset\n",
    "x, y = ecdf(df.temperature)\n",
    "x_theor, y_theor = ecdf(sample)\n",
    "\n",
    "_ = plt.subplots(figsize = (10,5))\n",
    "\n",
    "_ = plt.plot(x, y, marker='.', linestyle='none', color='r')\n",
    "_ = plt.plot(x_theor, y_theor, marker='.', linestyle='none', color='b')\n",
    "\n",
    "_ = plt.xlabel('Human Body Temperature (Fahrenheit)')\n",
    "_ = plt.ylabel('ECDF')\n",
    "_ = plt.xticks(size=12)\n",
    "_ = plt.yticks(size=12)\n",
    "_ = plt.legend(['sample', 'normal'], loc='lower right', fontsize= 14)\n",
    "plt.show()"
   ]
  },
  {
   "cell_type": "markdown",
   "metadata": {},
   "source": [
    "### A1\n",
    "<p style=\"color:red\"> When the ECDF plots are checked the data, simulated sample created by mu and sigma of the data fits each other</p> The data seems to come from __a normal distribution.__"
   ]
  },
  {
   "cell_type": "code",
   "execution_count": 82,
   "metadata": {},
   "outputs": [
    {
     "data": {
      "image/png": "[encoded data removed]",
      "text/plain": [
       "<Figure size 576x360 with 1 Axes>"
      ]
     },
     "metadata": {},
     "output_type": "display_data"
    }
   ],
   "source": [
    "from scipy import stats\n",
    "\n",
    "_ = plt.subplots(figsize=(8,5))\n",
    "_ = stats.probplot(df.temperature, dist='norm', plot=plt)\n",
    "_ = plt.xticks(size = 13)\n",
    "_ = plt.yticks(size = 13)\n",
    "plt.show()"
   ]
  },
  {
   "cell_type": "code",
   "execution_count": 83,
   "metadata": {},
   "outputs": [
    {
     "data": {
      "text/plain": [
       "NormaltestResult(statistic=2.703801433319203, pvalue=0.2587479863488254)"
      ]
     },
     "execution_count": 83,
     "metadata": {},
     "output_type": "execute_result"
    }
   ],
   "source": [
    "stats.normaltest(df.temperature)"
   ]
  },
  {
   "cell_type": "markdown",
   "metadata": {},
   "source": [
    "### A1\n",
    "\n",
    "\n",
    "<p style=\"color:red\"> H0 : The temperature data come from Normal Distribution (for p = 0.05). </p>\n",
    "<p style=\"color:black\"> The p value is __0.258__ and greater than __0.05__ so that we can __not reject H0 Null__ hypotesis.</p> The data seems to come from __a normal distribution.__"
   ]
  },
  {
   "cell_type": "markdown",
   "metadata": {},
   "source": [
    "## Q2. Is the sample size large? Are the observations independent? \n"
   ]
  },
  {
   "cell_type": "code",
   "execution_count": 85,
   "metadata": {},
   "outputs": [
    {
     "data": {
      "text/plain": [
       "130"
      ]
     },
     "execution_count": 85,
     "metadata": {},
     "output_type": "execute_result"
    }
   ],
   "source": [
    "len(df.temperature)"
   ]
  },
  {
   "cell_type": "markdown",
   "metadata": {},
   "source": [
    "<p style=\"color:red\"> Our sample size is __large (n = 130)__, as it is __greater than 30__, which is defined by Central Limit Theorem. Assuming the observations are __independent__ because collected from diffrent people, we can invoke the central limit theorem and say that the sample mean will be approximately __a normal distribution__.</p>"
   ]
  },
  {
   "cell_type": "markdown",
   "metadata": {},
   "source": [
    "## Q3. Is the true population mean really 98.6 degrees F?"
   ]
  },
  {
   "cell_type": "markdown",
   "metadata": {},
   "source": [
    "### Q3 A. First, try a bootstrap hypothesis test.\n"
   ]
  },
  {
   "cell_type": "code",
   "execution_count": 93,
   "metadata": {},
   "outputs": [
    {
     "name": "stdout",
     "output_type": "stream",
     "text": [
      "p_value :  0.0\n"
     ]
    }
   ],
   "source": [
    "\n",
    "## H0 : mu is 98.6\n",
    "## HA : mu is not 98.6\n",
    "\n",
    "bs_replicates = np.empty(10000)\n",
    "\n",
    "for i in range(10000):\n",
    "    \n",
    "    # Generate bootstrap\n",
    "    bs_sample = np.random.choice(df.temperature, size=len(df.temperature))\n",
    "    \n",
    "    # Compute replicate\n",
    "    bs_replicates[i] = np.mean(bs_sample)\n",
    "\n",
    "# Define p value\n",
    "p_value = np.sum(bs_replicates >= 98.6)/len(bs_replicates)\n",
    "\n",
    "print ('p_value : ', p_value)"
   ]
  },
  {
   "cell_type": "markdown",
   "metadata": {},
   "source": [
    "<p style=\"color:red\"> p value is 0, less than 0.05 so H0 Null Hypothesis can be rejected.</p>"
   ]
  },
  {
   "cell_type": "markdown",
   "metadata": {},
   "source": [
    "### Q3 B. Now, let's try frequentist statistical testing. Would you use a one-sample or two-sample test? Why?\n",
    "\n",
    "__One-sample test__ is supposed to be used for this data set, because we have __only temperature data__, we don't have any second data set."
   ]
  },
  {
   "cell_type": "markdown",
   "metadata": {},
   "source": [
    "### Q3 C. In this situation, is it appropriate to use the  t  or  z  statistic?\n",
    "\n",
    "Since the data is __normally distributed__ and __standard deviation is not given__, we have to use the __t statistic.__\n",
    "\n",
    "The t test (also called Student’s T Test) compares two averages (means) and tells you if they are different from each other. The t test also tells you how significant the differences are; In other words it lets you know if those differences could have happened by chance.\n",
    "\n"
   ]
  },
  {
   "cell_type": "code",
   "execution_count": 96,
   "metadata": {},
   "outputs": [
    {
     "name": "stdout",
     "output_type": "stream",
     "text": [
      "t-statistic: -5.4548232923645195\n",
      "p value = 2.4106320415561276e-07\n"
     ]
    }
   ],
   "source": [
    "from scipy.stats import ttest_1samp\n",
    "t_stat, p_val_t = ttest_1samp(df['temperature'], 98.6)\n",
    "\n",
    "print('t-statistic:',t_stat)\n",
    "print('p value =',p_val_t)"
   ]
  },
  {
   "cell_type": "code",
   "execution_count": 97,
   "metadata": {},
   "outputs": [
    {
     "name": "stdout",
     "output_type": "stream",
     "text": [
      "The null hypothesis - that the true population mean is 98.6 degrees F - can be rejected\n"
     ]
    }
   ],
   "source": [
    "# conduct hypothesis test for t-score\n",
    "alpha = 0.05\n",
    "if p_val_t < alpha:\n",
    "    print(\"The null hypothesis - that the true population mean is 98.6 degrees F - can be rejected\")\n",
    "else:\n",
    "    print(\"The null hypothesis - that the true population mean is 98.6 degrees F - cannot be rejected\")"
   ]
  },
  {
   "cell_type": "markdown",
   "metadata": {},
   "source": [
    "### Q4 Draw a small sample of size 10 from the data and repeat both frequentist tests.  Which one is the correct one to use? What do you notice? What does this tell you about the difference in application of the  t  and  z statistic?\n"
   ]
  },
  {
   "cell_type": "code",
   "execution_count": 98,
   "metadata": {},
   "outputs": [],
   "source": [
    "# generate random sample\n",
    "sample = np.random.choice(df['temperature'], size=10)"
   ]
  },
  {
   "cell_type": "code",
   "execution_count": 105,
   "metadata": {},
   "outputs": [
    {
     "name": "stdout",
     "output_type": "stream",
     "text": [
      "t-statistic: -0.10388150415957198\n",
      "p value = 0.9195414626869918\n"
     ]
    }
   ],
   "source": [
    "# conduct one-sample t-test\n",
    "t_stat, p_val_t = ttest_1samp(sample, 98.6)\n",
    "\n",
    "print('t-statistic:',t_stat)\n",
    "print('p value =',p_val_t)"
   ]
  },
  {
   "cell_type": "code",
   "execution_count": 106,
   "metadata": {},
   "outputs": [
    {
     "name": "stdout",
     "output_type": "stream",
     "text": [
      "z-statistic: -0.103881504159572\n",
      "p value = 0.9172633852273995\n"
     ]
    }
   ],
   "source": [
    "# CURIOUS TEST: conduct one-sample z-test\n",
    "from statsmodels.stats.weightstats import ztest\n",
    "z_stat, p_val_z = ztest(x1= sample, value = 98.6)\n",
    "\n",
    "print('z-statistic:',z_stat)\n",
    "print('p value =',p_val_z)"
   ]
  },
  {
   "cell_type": "markdown",
   "metadata": {},
   "source": [
    "For both tests, p-values are __greater than 0.05__ so that we can __accept__ the null hypothesis.\n",
    "\n",
    "These values are so variable related to the different samples. z-test has a greater p value compared to t-test. So __t-test is more reliable__ in this data set"
   ]
  },
  {
   "cell_type": "markdown",
   "metadata": {},
   "source": [
    "### Q5 At what temperature should we consider someone's temperature to be \"abnormal\"?\n",
    "\n",
    "-As in the previous example, try calculating everything using the boostrap approach, as well as the frequentist approach.\n",
    "\n",
    "-Start by computing the margin of error and confidence interval. When calculating the confidence interval, keep in mind that you should use the appropriate formula for one draw, and not N draws."
   ]
  },
  {
   "cell_type": "code",
   "execution_count": 115,
   "metadata": {},
   "outputs": [
    {
     "data": {
      "text/plain": [
       "array([98.47230769, 98.72309615])"
      ]
     },
     "execution_count": 115,
     "metadata": {},
     "output_type": "execute_result"
    }
   ],
   "source": [
    "# bootstrap approach\n",
    "temperature_shifted = df.temperature.values - np.mean(df.temperature) + 98.6\n",
    "\n",
    "def draw_bs_reps(data, size=1):\n",
    "    n = len(data)\n",
    "    bs_reps = np.empty(size)\n",
    "    for i in range(size):\n",
    "        bs_reps[i] = np.mean(np.random.choice(data, n))\n",
    "    \n",
    "    return bs_reps\n",
    "\n",
    "bs_replicates = draw_bs_reps(temperature_shifted,  10000)\n",
    "\n",
    "np.percentile(bs_replicates,[2.5,97.5])"
   ]
  },
  {
   "cell_type": "code",
   "execution_count": 110,
   "metadata": {},
   "outputs": [
    {
     "name": "stdout",
     "output_type": "stream",
     "text": [
      "Sample mean:             98.25\n",
      "Sample variance:         0.538\n",
      "Sample margin of error:  0.0643\n",
      "95% confidence interval: (98.12319642818166, 98.3752651102799)\n"
     ]
    }
   ],
   "source": [
    "Mu, StD, NSie = df.temperature.mean(), df.temperature.std(), len(df.temperature)\n",
    "sampleError = stats.sem(df.temperature)\n",
    "CI = stats.norm.interval(0.95, Mu, sampleError)\n",
    "print ('Sample mean:             {Mu:0.2f}\\n'\n",
    "       'Sample variance:         {v:0.3f}\\n'\n",
    "       'Sample margin of error:  {sem:0.4f}\\n'\n",
    "       '95% confidence interval: {CI}'\n",
    "       .format(Mu=Mu, v=StD**2, sem=sampleError, CI=CI))"
   ]
  },
  {
   "cell_type": "code",
   "execution_count": 111,
   "metadata": {},
   "outputs": [
    {
     "data": {
      "text/plain": [
       "(98.12200290560804, 98.37645863285351)"
      ]
     },
     "execution_count": 111,
     "metadata": {},
     "output_type": "execute_result"
    }
   ],
   "source": [
    "stats.t.interval(.95,len(df.temperature)-1,Mu,sampleError)"
   ]
  },
  {
   "cell_type": "markdown",
   "metadata": {},
   "source": [
    "Abnormal temperatures would be __below 98.12__ and __above 98.37__"
   ]
  },
  {
   "cell_type": "markdown",
   "metadata": {},
   "source": [
    "### Q6 Is there a significant difference between males and females in normal temperature?\n",
    "What testing approach did you use and why?\n",
    "Write a story with your conclusion in the context of the original problem."
   ]
  },
  {
   "cell_type": "code",
   "execution_count": 126,
   "metadata": {},
   "outputs": [
    {
     "name": "stdout",
     "output_type": "stream",
     "text": [
      "male mean temperature   : 98.1046153846154\n",
      "female mean temperature : 98.39384615384613\n"
     ]
    }
   ],
   "source": [
    "# get male and female temperature scores\n",
    "\n",
    "male_temps = df[df['gender'] == 'M'].temperature\n",
    "female_temps = df[df['gender'] == 'F'].temperature\n",
    "\n",
    "print ('male mean temperature   :', np.mean(male_temps))\n",
    "print ('female mean temperature :', np.mean(female_temps))"
   ]
  },
  {
   "cell_type": "markdown",
   "metadata": {},
   "source": [
    "\n",
    "### TWO SAMPLE T-TEST "
   ]
  },
  {
   "cell_type": "code",
   "execution_count": 129,
   "metadata": {},
   "outputs": [
    {
     "name": "stdout",
     "output_type": "stream",
     "text": [
      "t-statistic: -2.2854345381656103\n",
      "p value = 0.02393188312239561\n"
     ]
    }
   ],
   "source": [
    "## We will use two-sample test because we compare two different quantities\n",
    "## We will use t test because population standart deviation is not known\n",
    "\n",
    "\n",
    "\n",
    "from scipy.stats import ttest_ind\n",
    "t_stat, p_val_t = ttest_ind(male_temps, female_temps)\n",
    "\n",
    "print('t-statistic:',t_stat)\n",
    "print('p value =',p_val_t)\n"
   ]
  },
  {
   "cell_type": "code",
   "execution_count": 131,
   "metadata": {},
   "outputs": [
    {
     "name": "stdout",
     "output_type": "stream",
     "text": [
      "The null hypothesis - that there is no difference between male and female temperatures - can be rejected\n"
     ]
    }
   ],
   "source": [
    "# conduct hypothesis test# \n",
    "\n",
    "## alpha will be 0.25 due to two side test\n",
    "\n",
    "alpha = 0.05\n",
    "if p_val_t < alpha/2:\n",
    "    print(\"The null hypothesis - that there is no difference between male and female temperatures - can be rejected\")\n",
    "else:\n",
    "    print(\"The null hypothesis - that there is no difference between male and female temperatures - cannot be rejected\")"
   ]
  },
  {
   "cell_type": "markdown",
   "metadata": {},
   "source": [
    "### BOOTSTRAP"
   ]
  },
  {
   "cell_type": "code",
   "execution_count": 132,
   "metadata": {},
   "outputs": [
    {
     "name": "stdout",
     "output_type": "stream",
     "text": [
      "p-value :0.0095\n"
     ]
    }
   ],
   "source": [
    "diff_of_temps = df[df.gender == 'M'].temperature.mean() - df[df.gender == 'F'].temperature.mean()\n",
    "\n",
    "\n",
    "def draw_bs_reps_2(data1, data2, size):\n",
    "    \n",
    "    \n",
    "    bs_reps = np.empty(size)\n",
    "    concat_temp = np.concatenate((data1,data2))\n",
    "    for i in range(size):\n",
    "        tempStaff = np.random.permutation(concat_temp)\n",
    "        bs_x, bs_y = tempStaff[len(data1):], tempStaff[:len(data1)]\n",
    "        bs_reps[i] = np.mean(bs_x) - np.mean(bs_y)\n",
    "    \n",
    "    return bs_reps\n",
    "\n",
    "bs_replicates = draw_bs_reps_2(male_temps, female_temps, 10000)\n",
    "\n",
    "p = np.sum(bs_replicates <= diff_of_temps) / len(bs_replicates)\n",
    "print('p-value :'+str(p))\n"
   ]
  },
  {
   "cell_type": "markdown",
   "metadata": {},
   "source": [
    "Alpha level is .05, it will drop to .025 because it is a 2 side testing.\n",
    "\n",
    "So Looking at the p, I could say that we can __reject the null Hypothesis__ since p-value (.0095) is __lower than__ level of Alpha.\n",
    "\n",
    "This means that the there is a significant difference between males and females in normal temperature"
   ]
  },
  {
   "cell_type": "markdown",
   "metadata": {},
   "source": [
    "## Analysis Conclusion:\n"
   ]
  },
  {
   "cell_type": "raw",
   "metadata": {},
   "source": [
    "1) It appears that the mean normal human body temperature is different from 98.6 degrees fahreneheight. \n",
    "\n",
    "2) Additinally, normal body temperature varies across a gaussian distribution and should only be considered \"abnormal\" if it varies outside the range of 98.12-98.37.\n",
    "\n",
    "3) Finally, there's evidence in the data that there is a statistically significant difference between males and females in normal body temperature."
   ]
  },
  {
   "cell_type": "code",
   "execution_count": null,
   "metadata": {},
   "outputs": [],
   "source": []
  }
 ],
 "metadata": {
  "kernelspec": {
   "display_name": "Python 3",
   "language": "python",
   "name": "python3"
  },
  "language_info": {
   "codemirror_mode": {
    "name": "ipython",
    "version": 3
   },
   "file_extension": ".py",
   "mimetype": "text/x-python",
   "name": "python",
   "nbconvert_exporter": "python",
   "pygments_lexer": "ipython3",
   "version": "3.6.5"
  }
 },
 "nbformat": 4,
 "nbformat_minor": 1
}
